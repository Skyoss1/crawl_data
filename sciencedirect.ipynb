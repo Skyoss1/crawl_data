{
  "cells": [
    {
      "cell_type": "markdown",
      "metadata": {
        "id": "view-in-github",
        "colab_type": "text"
      },
      "source": [
        "<a href=\"https://colab.research.google.com/github/Skyoss1/crawl_data/blob/main/sciencedirect.ipynb\" target=\"_parent\"><img src=\"https://colab.research.google.com/assets/colab-badge.svg\" alt=\"Open In Colab\"/></a>"
      ]
    },
    {
      "cell_type": "code",
      "execution_count": 80,
      "id": "e9f9c315-9885-4c7d-bc87-d7b83df5fffa",
      "metadata": {
        "id": "e9f9c315-9885-4c7d-bc87-d7b83df5fffa",
        "colab": {
          "base_uri": "https://localhost:8080/"
        },
        "outputId": "1187cf75-c825-4492-a852-3ac38e8c7929"
      },
      "outputs": [
        {
          "output_type": "stream",
          "name": "stdout",
          "text": [
            "Tổng số kết quả: 12887\n"
          ]
        },
        {
          "output_type": "stream",
          "name": "stderr",
          "text": [
            "100%|██████████| 24/24 [00:12<00:00,  1.94it/s]"
          ]
        },
        {
          "output_type": "stream",
          "name": "stdout",
          "text": [
            "Đã lưu 600 bản ghi vào quantum_computer_and_neural_network_articles.csv\n"
          ]
        },
        {
          "output_type": "stream",
          "name": "stderr",
          "text": [
            "\n"
          ]
        }
      ],
      "source": [
        "import requests\n",
        "import json\n",
        "from tqdm import trange\n",
        "import csv\n",
        "\n",
        "def query_sciencedirect(query, api_key, start=0, count=25):\n",
        "    base_url = \"https://api.elsevier.com/content/search/sciencedirect\"\n",
        "    params = {\n",
        "        \"query\": query,\n",
        "        \"apiKey\": \"7f59af901d2d86f78a1fd60c1bf9426a\",\n",
        "        \"httpAccept\": \"application/json\",\n",
        "        \"start\": start,\n",
        "        \"count\": count\n",
        "    }\n",
        "\n",
        "    try:\n",
        "        response = requests.get(base_url, params=params)\n",
        "        response.raise_for_status()  # Kiểm tra lỗi\n",
        "        return response.json()\n",
        "    except requests.exceptions.RequestException as e:\n",
        "        print(f\"Lỗi kết nối: {e}\")\n",
        "        return None\n",
        "\n",
        "def process_entry(entry):\n",
        "    return {\n",
        "        \"title\": entry.get(\"dc:title\"),\n",
        "        #\"authors\": entry.get(\"dc:creator\", []),  #\n",
        "        #\"abstract\": entry.get(\"dc:description\"),\n",
        "        #\"doi\": entry.get(\"prism:doi\"),\n",
        "        \"url\": next((link[\"@href\"] for link in entry[\"link\"] if link[\"@ref\"] == \"scidir\"), None),\n",
        "        \"publicationYear\": entry.get(\"prism:coverDate\", \"\")[:4]\n",
        "    }\n",
        "\n",
        "def save_to_csv(data, filename):\n",
        "    \"\"\"Lưu dữ liệu vào file CSV.\"\"\"\n",
        "    with open(filename, 'w', encoding='utf-8', newline='') as f:\n",
        "        writer = csv.DictWriter(f, fieldnames=data[0].keys())\n",
        "        writer.writeheader()  # Ghi tiêu đề cột\n",
        "        writer.writerows(data)  # Ghi dữ liệu\n",
        "\n",
        "def main():\n",
        "    query = \"quantum computer and neural network\"\n",
        "    api_key = \"7f59af901d2d86f78a1fd60c1bf9426a\"\n",
        "\n",
        "    first_page = query_sciencedirect(query, api_key)\n",
        "    if not first_page:\n",
        "        return\n",
        "    total_results = int(first_page[\"search-results\"][\"opensearch:totalResults\"])\n",
        "    print(f\"Tổng số kết quả: {total_results}\")\n",
        "\n",
        "    all_entries = []\n",
        "    for start in trange(0, 600, 25):\n",
        "        data = query_sciencedirect(query, api_key, start=start)\n",
        "        if data:\n",
        "            all_entries.extend(data[\"search-results\"][\"entry\"])\n",
        "        else:\n",
        "            break\n",
        "\n",
        "    processed_data = [process_entry(entry) for entry in all_entries]\n",
        "    save_to_csv(processed_data, f\"{query.replace(' ', '_')}_articles.csv\")  # Lưu dưới dạng CSV\n",
        "    print(f\"Đã lưu {len(processed_data)} bản ghi vào {query.replace(' ', '_')}_articles.csv\")\n",
        "\n",
        "if __name__ == \"__main__\":\n",
        "    main()"
      ]
    },
    {
      "cell_type": "code",
      "execution_count": 65,
      "id": "bfeb22b9-2176-4288-9d5e-543bbab69928",
      "metadata": {
        "id": "bfeb22b9-2176-4288-9d5e-543bbab69928",
        "colab": {
          "base_uri": "https://localhost:8080/",
          "height": 106
        },
        "outputId": "c26844bd-27d9-4ac6-b394-19125ab18856"
      },
      "outputs": [
        {
          "output_type": "error",
          "ename": "SyntaxError",
          "evalue": "invalid syntax (<ipython-input-65-fabc22c243d9>, line 1)",
          "traceback": [
            "\u001b[0;36m  File \u001b[0;32m\"<ipython-input-65-fabc22c243d9>\"\u001b[0;36m, line \u001b[0;32m1\u001b[0m\n\u001b[0;31m    ur; = [\u001b[0m\n\u001b[0m        ^\u001b[0m\n\u001b[0;31mSyntaxError\u001b[0m\u001b[0;31m:\u001b[0m invalid syntax\n"
          ]
        }
      ],
      "source": [
        "ur; = [\n",
        "    \"https://link.springer.com/search?new-search=true&query=%22quantum++computer%22&sortBy=newestFirst&page=\",\n",
        "    \"https://link.springer.com/search?new-search=true&query=%22quantum+deep+learning%22&sortBy=newestFirst&page=\",\n",
        "    \"https://link.springer.com/search?new-search=true&query=%22quantum+machine+learning%22&sortBy=newestFirst&page=\",\n",
        "    \"https://link.springer.com/search?new-search=true&query=%22quantum+computer%22+and+%22computer+vision%22&sortBy=newestFirst&page=\",\n",
        "    \"https://link.springer.com/search?new-search=true&query=%22quantum+computer%22+and+%22data+mining%22&sortBy=newestFirst&page=\",\n",
        "    \"https://link.springer.com/search?new-search=true&query=%22quantum+computer%22+and+%22natural+language+processing%22&sortBy=newestFirst&page=\",\n",
        "    \"https://link.springer.com/search?new-search=true&query=%22quantum+neural+network%22+and+%22natural+language+processing%22&sortBy=newestFirst&page=\",\n",
        "    \"https://link.springer.com/search?new-search=true&query=%22quantum+neural+network%22+and+%22computer+vision%22&sortBy=newestFirst&page=\", #--> 200\n",
        "    \"https://link.springer.com/search?new-search=true&query=%22quantum+neural+network%22&sortBy=newestFirst&page=\", # --> 500\n",
        "    \"https://link.springer.com/search?new-search=true&query=%22quantum+computer%22+and+%22neural+network%22&sortBy=newestFirst&page=\", #--> 900\n",
        "]"
      ]
    }
  ],
  "metadata": {
    "kernelspec": {
      "display_name": "Python 3 (ipykernel)",
      "language": "python",
      "name": "python3"
    },
    "language_info": {
      "codemirror_mode": {
        "name": "ipython",
        "version": 3
      },
      "file_extension": ".py",
      "mimetype": "text/x-python",
      "name": "python",
      "nbconvert_exporter": "python",
      "pygments_lexer": "ipython3",
      "version": "3.10.12"
    },
    "colab": {
      "provenance": [],
      "include_colab_link": true
    }
  },
  "nbformat": 4,
  "nbformat_minor": 5
}